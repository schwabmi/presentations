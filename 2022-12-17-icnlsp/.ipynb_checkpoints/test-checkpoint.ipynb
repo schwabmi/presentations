{
 "cells": [
  {
   "cell_type": "markdown",
   "metadata": {},
   "source": [
    "# <center> Vossian Antonomasia \n",
    "## <center> Automtatic Detection, Extraction and Analysis  \n",
    "<br />\n",
    "\n",
    "<center>  <a href=\"https://hu.berlin/schwab/\">Michel Schwab</a> </center>\n",
    "\n",
    "<br />\n",
    "    \n",
    "<center> Humboldt-Universität zu Berlin<!-- .element: style=\"font-size:0.75em;\" --> \n",
    "<br />\n",
    "\n",
    "\n",
    "\n",
    "<!-- keep me, otherwise this gets interpreted as an ordered list --> 09. December 2022\n",
    "\n",
    "<p>\n",
    "<a rel=\"license\"\n",
    "href=\"http://creativecommons.org/licenses/by/4.0/\"><img alt=\"Creative\n",
    "Commons Lizenzvertrag\" style=\"border-width:0\" src=\"images/cc.png\"/></a> <br/>\n",
    "Dieses Werk ist lizenziert unter einer <a rel=\"license\" href=\"http://creativecommons.org/licenses/by/4.0/\">Creative Commons Namensnennung 4.0 International Lizenz</a>.\n",
    "</p>\n",
    "\n",
    "<!-- .element: style=\"font-size:0.75em; margin-bottom: 0px; margin-top: 5em;\" -->"
   ]
  },
  {
   "cell_type": "markdown",
   "metadata": {},
   "source": [
    "## Inhalt\n",
    "\n",
    "<br />\n",
    "\n",
    "1. [Defintion and Examples](#/1)\n",
    "\n",
    "2. [Motivation and Difficulty](#/2)\n",
    "\n",
    "3. [Data and Methods](#/3)\n",
    "\n",
    "4. [Evaluation and Analysis](#/4)"
   ]
  },
  {
   "cell_type": "markdown",
   "metadata": {},
   "source": [
    "## Inhalt\n",
    "\n",
    "<br />\n",
    "\n",
    "1. [Defintion and Examples](#/1)\n",
    "\n",
    "2. [Motivation and Difficulty](#/2)\n",
    "\n",
    "3. [Data and Methods](#/3)\n",
    "\n",
    "4. [Evaluation and Analysis](#/4)\n",
    "    \n",
    "    test"
   ]
  }
 ],
 "metadata": {
  "language_info": {
   "name": "python",
   "pygments_lexer": "ipython3"
  }
 },
 "nbformat": 4,
 "nbformat_minor": 2
}
